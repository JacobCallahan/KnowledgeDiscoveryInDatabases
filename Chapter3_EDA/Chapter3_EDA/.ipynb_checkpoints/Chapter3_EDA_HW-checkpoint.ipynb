{
 "cells": [
  {
   "attachments": {
    "uncc_bg.png": {
     "image/png": "[encoded data removed]"
    }
   },
   "cell_type": "markdown",
   "metadata": {},
   "source": [
    "![uncc_bg.png](attachment:uncc_bg.png)"
   ]
  },
  {
   "cell_type": "markdown",
   "metadata": {},
   "source": [
    "##### <font color = 'green'> Enter your Name/Group members Name and Student Id/Id's: \n",
    "    1. Sidharth Panda 801151380"
   ]
  },
  {
   "cell_type": "markdown",
   "metadata": {},
   "source": [
    "##### Instructions:\n",
    "*Answer questions in comments that are listed starting with (A),attach your code and comment wherever necessary.*\n",
    "<p>At the end there is a section to read on binning numerical data!</p>"
   ]
  },
  {
   "cell_type": "markdown",
   "metadata": {},
   "source": [
    "<font color = 'green'> (A) </font> *What is Exploratory Data Analysis? Why and when do you perform EDA?*\n",
    "\n"
   ]
  },
  {
   "cell_type": "markdown",
   "metadata": {},
   "source": [
    "###### Write your answer here\n",
    "<font color = 'green'> <b>Answer: EDA is required by data scientists when there is a need to understand the relationship between variables and reach down deep into the data and search for meaningful information.They also require graphical representation to understand the data.<br>\n",
    "    EDA is performed when:- <br>\n",
    "    1- You are unknown of the relationship between the variables in the dataset.<br>\n",
    "    2- You want to identify interesting subset of the observation.<br>\n",
    "    3- You want to examine the inter-relationships among the attributes\n",
    "    </b> </font> * *"
   ]
  },
  {
   "cell_type": "markdown",
   "metadata": {},
   "source": [
    " *<u>Import cardata.txt dataset in this jupyter file</u> * It is often very essential to know about the data. Explore more about the data here: https://ggplot2.tidyverse.org/reference/mpg.html"
   ]
  },
  {
   "cell_type": "code",
   "execution_count": 1,
   "metadata": {},
   "outputs": [],
   "source": [
    "#Load the dataset\n",
    "import pandas as pd\n",
    "import numpy as np\n",
    "\n",
    "car_data = pd.read_csv(\"cardata.txt\")"
   ]
  },
  {
   "cell_type": "markdown",
   "metadata": {},
   "source": [
    "<font color = 'green'> (B) </font> *Summarize the dataset and display first 10 rows and last 10 rows in the dataset. Write few lines about your understanding on the data.*"
   ]
  },
  {
   "cell_type": "code",
   "execution_count": 14,
   "metadata": {},
   "outputs": [
    {
     "name": "stdout",
     "output_type": "stream",
     "text": [
      "<class 'pandas.core.frame.DataFrame'>\n",
      "RangeIndex: 234 entries, 0 to 233\n",
      "Data columns (total 11 columns):\n",
      "manufacturer    234 non-null object\n",
      "model           234 non-null object\n",
      "displ           234 non-null float64\n",
      "year            234 non-null int64\n",
      "cyl             234 non-null int64\n",
      "trans           234 non-null object\n",
      "drv             234 non-null object\n",
      "cty             234 non-null int64\n",
      "hwy             234 non-null int64\n",
      "fl              234 non-null object\n",
      "class           234 non-null object\n",
      "dtypes: float64(1), int64(4), object(6)\n",
      "memory usage: 20.2+ KB\n",
      "(234, 11)\n"
     ]
    }
   ],
   "source": [
    "###### Write your code here\n",
    "# Display the information about the various columns and their datatypes\n",
    "car_data.info()\n",
    "##car_data.describe()\n",
    "print(car_data.shape)\n",
    "## We have 234 records and 11 columns in the car dataset"
   ]
  },
  {
   "cell_type": "code",
   "execution_count": 7,
   "metadata": {},
   "outputs": [
    {
     "data": {
      "text/html": [
       "<div>\n",
       "<style scoped>\n",
       "    .dataframe tbody tr th:only-of-type {\n",
       "        vertical-align: middle;\n",
       "    }\n",
       "\n",
       "    .dataframe tbody tr th {\n",
       "        vertical-align: top;\n",
       "    }\n",
       "\n",
       "    .dataframe thead th {\n",
       "        text-align: right;\n",
       "    }\n",
       "</style>\n",
       "<table border=\"1\" class=\"dataframe\">\n",
       "  <thead>\n",
       "    <tr style=\"text-align: right;\">\n",
       "      <th></th>\n",
       "      <th>manufacturer</th>\n",
       "      <th>model</th>\n",
       "      <th>displ</th>\n",
       "      <th>year</th>\n",
       "      <th>cyl</th>\n",
       "      <th>trans</th>\n",
       "      <th>drv</th>\n",
       "      <th>cty</th>\n",
       "      <th>hwy</th>\n",
       "      <th>fl</th>\n",
       "      <th>class</th>\n",
       "    </tr>\n",
       "  </thead>\n",
       "  <tbody>\n",
       "    <tr>\n",
       "      <th>0</th>\n",
       "      <td>audi</td>\n",
       "      <td>a4</td>\n",
       "      <td>1.8</td>\n",
       "      <td>1999</td>\n",
       "      <td>4</td>\n",
       "      <td>auto(l5)</td>\n",
       "      <td>f</td>\n",
       "      <td>18</td>\n",
       "      <td>29</td>\n",
       "      <td>p</td>\n",
       "      <td>compact</td>\n",
       "    </tr>\n",
       "    <tr>\n",
       "      <th>1</th>\n",
       "      <td>audi</td>\n",
       "      <td>a4</td>\n",
       "      <td>1.8</td>\n",
       "      <td>1999</td>\n",
       "      <td>4</td>\n",
       "      <td>manual(m5)</td>\n",
       "      <td>f</td>\n",
       "      <td>21</td>\n",
       "      <td>29</td>\n",
       "      <td>p</td>\n",
       "      <td>compact</td>\n",
       "    </tr>\n",
       "    <tr>\n",
       "      <th>2</th>\n",
       "      <td>audi</td>\n",
       "      <td>a4</td>\n",
       "      <td>2.0</td>\n",
       "      <td>2008</td>\n",
       "      <td>4</td>\n",
       "      <td>manual(m6)</td>\n",
       "      <td>f</td>\n",
       "      <td>20</td>\n",
       "      <td>31</td>\n",
       "      <td>p</td>\n",
       "      <td>compact</td>\n",
       "    </tr>\n",
       "    <tr>\n",
       "      <th>3</th>\n",
       "      <td>audi</td>\n",
       "      <td>a4</td>\n",
       "      <td>2.0</td>\n",
       "      <td>2008</td>\n",
       "      <td>4</td>\n",
       "      <td>auto(av)</td>\n",
       "      <td>f</td>\n",
       "      <td>21</td>\n",
       "      <td>30</td>\n",
       "      <td>p</td>\n",
       "      <td>compact</td>\n",
       "    </tr>\n",
       "    <tr>\n",
       "      <th>4</th>\n",
       "      <td>audi</td>\n",
       "      <td>a4</td>\n",
       "      <td>2.8</td>\n",
       "      <td>1999</td>\n",
       "      <td>6</td>\n",
       "      <td>auto(l5)</td>\n",
       "      <td>f</td>\n",
       "      <td>16</td>\n",
       "      <td>26</td>\n",
       "      <td>p</td>\n",
       "      <td>compact</td>\n",
       "    </tr>\n",
       "    <tr>\n",
       "      <th>5</th>\n",
       "      <td>audi</td>\n",
       "      <td>a4</td>\n",
       "      <td>2.8</td>\n",
       "      <td>1999</td>\n",
       "      <td>6</td>\n",
       "      <td>manual(m5)</td>\n",
       "      <td>f</td>\n",
       "      <td>18</td>\n",
       "      <td>26</td>\n",
       "      <td>p</td>\n",
       "      <td>compact</td>\n",
       "    </tr>\n",
       "    <tr>\n",
       "      <th>6</th>\n",
       "      <td>audi</td>\n",
       "      <td>a4</td>\n",
       "      <td>3.1</td>\n",
       "      <td>2008</td>\n",
       "      <td>6</td>\n",
       "      <td>auto(av)</td>\n",
       "      <td>f</td>\n",
       "      <td>18</td>\n",
       "      <td>27</td>\n",
       "      <td>p</td>\n",
       "      <td>compact</td>\n",
       "    </tr>\n",
       "    <tr>\n",
       "      <th>7</th>\n",
       "      <td>audi</td>\n",
       "      <td>a4 quattro</td>\n",
       "      <td>1.8</td>\n",
       "      <td>1999</td>\n",
       "      <td>4</td>\n",
       "      <td>manual(m5)</td>\n",
       "      <td>4</td>\n",
       "      <td>18</td>\n",
       "      <td>26</td>\n",
       "      <td>p</td>\n",
       "      <td>compact</td>\n",
       "    </tr>\n",
       "    <tr>\n",
       "      <th>8</th>\n",
       "      <td>audi</td>\n",
       "      <td>a4 quattro</td>\n",
       "      <td>1.8</td>\n",
       "      <td>1999</td>\n",
       "      <td>4</td>\n",
       "      <td>auto(l5)</td>\n",
       "      <td>4</td>\n",
       "      <td>16</td>\n",
       "      <td>25</td>\n",
       "      <td>p</td>\n",
       "      <td>compact</td>\n",
       "    </tr>\n",
       "    <tr>\n",
       "      <th>9</th>\n",
       "      <td>audi</td>\n",
       "      <td>a4 quattro</td>\n",
       "      <td>2.0</td>\n",
       "      <td>2008</td>\n",
       "      <td>4</td>\n",
       "      <td>manual(m6)</td>\n",
       "      <td>4</td>\n",
       "      <td>20</td>\n",
       "      <td>28</td>\n",
       "      <td>p</td>\n",
       "      <td>compact</td>\n",
       "    </tr>\n",
       "  </tbody>\n",
       "</table>\n",
       "</div>"
      ],
      "text/plain": [
       "  manufacturer       model  displ  year  cyl       trans drv  cty  hwy fl  \\\n",
       "0         audi          a4    1.8  1999    4    auto(l5)   f   18   29  p   \n",
       "1         audi          a4    1.8  1999    4  manual(m5)   f   21   29  p   \n",
       "2         audi          a4    2.0  2008    4  manual(m6)   f   20   31  p   \n",
       "3         audi          a4    2.0  2008    4    auto(av)   f   21   30  p   \n",
       "4         audi          a4    2.8  1999    6    auto(l5)   f   16   26  p   \n",
       "5         audi          a4    2.8  1999    6  manual(m5)   f   18   26  p   \n",
       "6         audi          a4    3.1  2008    6    auto(av)   f   18   27  p   \n",
       "7         audi  a4 quattro    1.8  1999    4  manual(m5)   4   18   26  p   \n",
       "8         audi  a4 quattro    1.8  1999    4    auto(l5)   4   16   25  p   \n",
       "9         audi  a4 quattro    2.0  2008    4  manual(m6)   4   20   28  p   \n",
       "\n",
       "     class  \n",
       "0  compact  \n",
       "1  compact  \n",
       "2  compact  \n",
       "3  compact  \n",
       "4  compact  \n",
       "5  compact  \n",
       "6  compact  \n",
       "7  compact  \n",
       "8  compact  \n",
       "9  compact  "
      ]
     },
     "execution_count": 7,
     "metadata": {},
     "output_type": "execute_result"
    }
   ],
   "source": [
    "#Display the first 10 rows of the car dataset\n",
    "car_data.head(10)"
   ]
  },
  {
   "cell_type": "code",
   "execution_count": 8,
   "metadata": {
    "scrolled": true
   },
   "outputs": [
    {
     "data": {
      "text/html": [
       "<div>\n",
       "<style scoped>\n",
       "    .dataframe tbody tr th:only-of-type {\n",
       "        vertical-align: middle;\n",
       "    }\n",
       "\n",
       "    .dataframe tbody tr th {\n",
       "        vertical-align: top;\n",
       "    }\n",
       "\n",
       "    .dataframe thead th {\n",
       "        text-align: right;\n",
       "    }\n",
       "</style>\n",
       "<table border=\"1\" class=\"dataframe\">\n",
       "  <thead>\n",
       "    <tr style=\"text-align: right;\">\n",
       "      <th></th>\n",
       "      <th>manufacturer</th>\n",
       "      <th>model</th>\n",
       "      <th>displ</th>\n",
       "      <th>year</th>\n",
       "      <th>cyl</th>\n",
       "      <th>trans</th>\n",
       "      <th>drv</th>\n",
       "      <th>cty</th>\n",
       "      <th>hwy</th>\n",
       "      <th>fl</th>\n",
       "      <th>class</th>\n",
       "    </tr>\n",
       "  </thead>\n",
       "  <tbody>\n",
       "    <tr>\n",
       "      <th>224</th>\n",
       "      <td>volkswagen</td>\n",
       "      <td>new beetle</td>\n",
       "      <td>2.0</td>\n",
       "      <td>1999</td>\n",
       "      <td>4</td>\n",
       "      <td>auto(l4)</td>\n",
       "      <td>f</td>\n",
       "      <td>19</td>\n",
       "      <td>26</td>\n",
       "      <td>r</td>\n",
       "      <td>subcompact</td>\n",
       "    </tr>\n",
       "    <tr>\n",
       "      <th>225</th>\n",
       "      <td>volkswagen</td>\n",
       "      <td>new beetle</td>\n",
       "      <td>2.5</td>\n",
       "      <td>2008</td>\n",
       "      <td>5</td>\n",
       "      <td>manual(m5)</td>\n",
       "      <td>f</td>\n",
       "      <td>20</td>\n",
       "      <td>28</td>\n",
       "      <td>r</td>\n",
       "      <td>subcompact</td>\n",
       "    </tr>\n",
       "    <tr>\n",
       "      <th>226</th>\n",
       "      <td>volkswagen</td>\n",
       "      <td>new beetle</td>\n",
       "      <td>2.5</td>\n",
       "      <td>2008</td>\n",
       "      <td>5</td>\n",
       "      <td>auto(s6)</td>\n",
       "      <td>f</td>\n",
       "      <td>20</td>\n",
       "      <td>29</td>\n",
       "      <td>r</td>\n",
       "      <td>subcompact</td>\n",
       "    </tr>\n",
       "    <tr>\n",
       "      <th>227</th>\n",
       "      <td>volkswagen</td>\n",
       "      <td>passat</td>\n",
       "      <td>1.8</td>\n",
       "      <td>1999</td>\n",
       "      <td>4</td>\n",
       "      <td>manual(m5)</td>\n",
       "      <td>f</td>\n",
       "      <td>21</td>\n",
       "      <td>29</td>\n",
       "      <td>p</td>\n",
       "      <td>midsize</td>\n",
       "    </tr>\n",
       "    <tr>\n",
       "      <th>228</th>\n",
       "      <td>volkswagen</td>\n",
       "      <td>passat</td>\n",
       "      <td>1.8</td>\n",
       "      <td>1999</td>\n",
       "      <td>4</td>\n",
       "      <td>auto(l5)</td>\n",
       "      <td>f</td>\n",
       "      <td>18</td>\n",
       "      <td>29</td>\n",
       "      <td>p</td>\n",
       "      <td>midsize</td>\n",
       "    </tr>\n",
       "    <tr>\n",
       "      <th>229</th>\n",
       "      <td>volkswagen</td>\n",
       "      <td>passat</td>\n",
       "      <td>2.0</td>\n",
       "      <td>2008</td>\n",
       "      <td>4</td>\n",
       "      <td>auto(s6)</td>\n",
       "      <td>f</td>\n",
       "      <td>19</td>\n",
       "      <td>28</td>\n",
       "      <td>p</td>\n",
       "      <td>midsize</td>\n",
       "    </tr>\n",
       "    <tr>\n",
       "      <th>230</th>\n",
       "      <td>volkswagen</td>\n",
       "      <td>passat</td>\n",
       "      <td>2.0</td>\n",
       "      <td>2008</td>\n",
       "      <td>4</td>\n",
       "      <td>manual(m6)</td>\n",
       "      <td>f</td>\n",
       "      <td>21</td>\n",
       "      <td>29</td>\n",
       "      <td>p</td>\n",
       "      <td>midsize</td>\n",
       "    </tr>\n",
       "    <tr>\n",
       "      <th>231</th>\n",
       "      <td>volkswagen</td>\n",
       "      <td>passat</td>\n",
       "      <td>2.8</td>\n",
       "      <td>1999</td>\n",
       "      <td>6</td>\n",
       "      <td>auto(l5)</td>\n",
       "      <td>f</td>\n",
       "      <td>16</td>\n",
       "      <td>26</td>\n",
       "      <td>p</td>\n",
       "      <td>midsize</td>\n",
       "    </tr>\n",
       "    <tr>\n",
       "      <th>232</th>\n",
       "      <td>volkswagen</td>\n",
       "      <td>passat</td>\n",
       "      <td>2.8</td>\n",
       "      <td>1999</td>\n",
       "      <td>6</td>\n",
       "      <td>manual(m5)</td>\n",
       "      <td>f</td>\n",
       "      <td>18</td>\n",
       "      <td>26</td>\n",
       "      <td>p</td>\n",
       "      <td>midsize</td>\n",
       "    </tr>\n",
       "    <tr>\n",
       "      <th>233</th>\n",
       "      <td>volkswagen</td>\n",
       "      <td>passat</td>\n",
       "      <td>3.6</td>\n",
       "      <td>2008</td>\n",
       "      <td>6</td>\n",
       "      <td>auto(s6)</td>\n",
       "      <td>f</td>\n",
       "      <td>17</td>\n",
       "      <td>26</td>\n",
       "      <td>p</td>\n",
       "      <td>midsize</td>\n",
       "    </tr>\n",
       "  </tbody>\n",
       "</table>\n",
       "</div>"
      ],
      "text/plain": [
       "    manufacturer       model  displ  year  cyl       trans drv  cty  hwy fl  \\\n",
       "224   volkswagen  new beetle    2.0  1999    4    auto(l4)   f   19   26  r   \n",
       "225   volkswagen  new beetle    2.5  2008    5  manual(m5)   f   20   28  r   \n",
       "226   volkswagen  new beetle    2.5  2008    5    auto(s6)   f   20   29  r   \n",
       "227   volkswagen      passat    1.8  1999    4  manual(m5)   f   21   29  p   \n",
       "228   volkswagen      passat    1.8  1999    4    auto(l5)   f   18   29  p   \n",
       "229   volkswagen      passat    2.0  2008    4    auto(s6)   f   19   28  p   \n",
       "230   volkswagen      passat    2.0  2008    4  manual(m6)   f   21   29  p   \n",
       "231   volkswagen      passat    2.8  1999    6    auto(l5)   f   16   26  p   \n",
       "232   volkswagen      passat    2.8  1999    6  manual(m5)   f   18   26  p   \n",
       "233   volkswagen      passat    3.6  2008    6    auto(s6)   f   17   26  p   \n",
       "\n",
       "          class  \n",
       "224  subcompact  \n",
       "225  subcompact  \n",
       "226  subcompact  \n",
       "227     midsize  \n",
       "228     midsize  \n",
       "229     midsize  \n",
       "230     midsize  \n",
       "231     midsize  \n",
       "232     midsize  \n",
       "233     midsize  "
      ]
     },
     "execution_count": 8,
     "metadata": {},
     "output_type": "execute_result"
    }
   ],
   "source": [
    "#Display the last 10 rows of the car dataset\n",
    "car_data.tail(10)"
   ]
  },
  {
   "cell_type": "markdown",
   "metadata": {},
   "source": [
    "<font color = 'green'> Obervation </font><br>\n",
    "In the above data, below are the observation :-\n",
    "4 int datatypes columns,6 columns have data types as object which are string in pandas and 1 floting or decimal type.\n",
    "The goal is to analyze the data set and find a meaningfull relationship among the variable/attributes and classify the cars correctly.\n"
   ]
  },
  {
   "cell_type": "markdown",
   "metadata": {},
   "source": [
    "<font color = 'green'> (C) </font> *Display the metadata information,summary statistics, check for null values and comment on the statistical summary of the dataset. Identify the numerical and categorical variables.*"
   ]
  },
  {
   "cell_type": "code",
   "execution_count": 17,
   "metadata": {},
   "outputs": [
    {
     "data": {
      "text/html": [
       "<div>\n",
       "<style scoped>\n",
       "    .dataframe tbody tr th:only-of-type {\n",
       "        vertical-align: middle;\n",
       "    }\n",
       "\n",
       "    .dataframe tbody tr th {\n",
       "        vertical-align: top;\n",
       "    }\n",
       "\n",
       "    .dataframe thead th {\n",
       "        text-align: right;\n",
       "    }\n",
       "</style>\n",
       "<table border=\"1\" class=\"dataframe\">\n",
       "  <thead>\n",
       "    <tr style=\"text-align: right;\">\n",
       "      <th></th>\n",
       "      <th>displ</th>\n",
       "      <th>year</th>\n",
       "      <th>cyl</th>\n",
       "      <th>cty</th>\n",
       "      <th>hwy</th>\n",
       "    </tr>\n",
       "  </thead>\n",
       "  <tbody>\n",
       "    <tr>\n",
       "      <th>count</th>\n",
       "      <td>234.000000</td>\n",
       "      <td>234.000000</td>\n",
       "      <td>234.000000</td>\n",
       "      <td>234.000000</td>\n",
       "      <td>234.000000</td>\n",
       "    </tr>\n",
       "    <tr>\n",
       "      <th>mean</th>\n",
       "      <td>3.471795</td>\n",
       "      <td>2003.500000</td>\n",
       "      <td>5.888889</td>\n",
       "      <td>16.858974</td>\n",
       "      <td>23.440171</td>\n",
       "    </tr>\n",
       "    <tr>\n",
       "      <th>std</th>\n",
       "      <td>1.291959</td>\n",
       "      <td>4.509646</td>\n",
       "      <td>1.611534</td>\n",
       "      <td>4.255946</td>\n",
       "      <td>5.954643</td>\n",
       "    </tr>\n",
       "    <tr>\n",
       "      <th>min</th>\n",
       "      <td>1.600000</td>\n",
       "      <td>1999.000000</td>\n",
       "      <td>4.000000</td>\n",
       "      <td>9.000000</td>\n",
       "      <td>12.000000</td>\n",
       "    </tr>\n",
       "    <tr>\n",
       "      <th>25%</th>\n",
       "      <td>2.400000</td>\n",
       "      <td>1999.000000</td>\n",
       "      <td>4.000000</td>\n",
       "      <td>14.000000</td>\n",
       "      <td>18.000000</td>\n",
       "    </tr>\n",
       "    <tr>\n",
       "      <th>50%</th>\n",
       "      <td>3.300000</td>\n",
       "      <td>2003.500000</td>\n",
       "      <td>6.000000</td>\n",
       "      <td>17.000000</td>\n",
       "      <td>24.000000</td>\n",
       "    </tr>\n",
       "    <tr>\n",
       "      <th>75%</th>\n",
       "      <td>4.600000</td>\n",
       "      <td>2008.000000</td>\n",
       "      <td>8.000000</td>\n",
       "      <td>19.000000</td>\n",
       "      <td>27.000000</td>\n",
       "    </tr>\n",
       "    <tr>\n",
       "      <th>max</th>\n",
       "      <td>7.000000</td>\n",
       "      <td>2008.000000</td>\n",
       "      <td>8.000000</td>\n",
       "      <td>35.000000</td>\n",
       "      <td>44.000000</td>\n",
       "    </tr>\n",
       "  </tbody>\n",
       "</table>\n",
       "</div>"
      ],
      "text/plain": [
       "            displ         year         cyl         cty         hwy\n",
       "count  234.000000   234.000000  234.000000  234.000000  234.000000\n",
       "mean     3.471795  2003.500000    5.888889   16.858974   23.440171\n",
       "std      1.291959     4.509646    1.611534    4.255946    5.954643\n",
       "min      1.600000  1999.000000    4.000000    9.000000   12.000000\n",
       "25%      2.400000  1999.000000    4.000000   14.000000   18.000000\n",
       "50%      3.300000  2003.500000    6.000000   17.000000   24.000000\n",
       "75%      4.600000  2008.000000    8.000000   19.000000   27.000000\n",
       "max      7.000000  2008.000000    8.000000   35.000000   44.000000"
      ]
     },
     "execution_count": 17,
     "metadata": {},
     "output_type": "execute_result"
    }
   ],
   "source": [
    "###### Write your code here\n",
    "car_data.describe()"
   ]
  },
  {
   "cell_type": "markdown",
   "metadata": {},
   "source": [
    "<pr>We can now check the record count, average value,standard deviation,<br>minimum and maximum value, data distribution in each quantile for each column in a database.<br>\n",
    "    From the mean, we can say that the data set contains more records after the year 2003.<br>\n",
    "    Also, it can be inferred that even if there is not a spike in the cyl capacity of the car, the mileage has impoved significantly from 1999 to 2008.<br>\n",
    "We can also see that manufacturer, model, trans, drv, fl and class are object dtype and are possible categorical features in the car dataset.</pr>"
   ]
  },
  {
   "cell_type": "code",
   "execution_count": 20,
   "metadata": {},
   "outputs": [
    {
     "data": {
      "text/plain": [
       "manufacturer    0\n",
       "model           0\n",
       "displ           0\n",
       "year            0\n",
       "cyl             0\n",
       "trans           0\n",
       "drv             0\n",
       "cty             0\n",
       "hwy             0\n",
       "fl              0\n",
       "class           0\n",
       "dtype: int64"
      ]
     },
     "execution_count": 20,
     "metadata": {},
     "output_type": "execute_result"
    }
   ],
   "source": [
    "## to check for null values, we will be using the isnull and sum() to count the number of null values\n",
    "car_data.isnull().sum()\n",
    "## as we see, there are no null values in the data set"
   ]
  },
  {
   "cell_type": "markdown",
   "metadata": {},
   "source": [
    "<font color = 'green'> (D) </font> *Take the count of cars with respect to 'manufacturers'. With the categorical variables identified in the above step plot a a graph(countplot) for two variables of your choice and describe your observation on it.*"
   ]
  },
  {
   "cell_type": "code",
   "execution_count": 41,
   "metadata": {},
   "outputs": [
    {
     "data": {
      "text/plain": [
       "<matplotlib.axes._subplots.AxesSubplot at 0x1768a343ac8>"
      ]
     },
     "execution_count": 41,
     "metadata": {},
     "output_type": "execute_result"
    },
    {
     "data": {
      "image/png": "[encoded data removed]",
      "text/plain": [
       "<Figure size 842.4x595.44 with 1 Axes>"
      ]
     },
     "metadata": {},
     "output_type": "display_data"
    }
   ],
   "source": [
    "###### Write your code here\n",
    "##print(car_data.groupby('manufacturer').size())\n",
    "##print(car_data.groupby('trans').size())\n",
    "import seaborn as sns\n",
    "#sns.set(rc={'figure.figsize':(11.7,8.27)})\n",
    "sns.countplot(x='manufacturer',data=car_data, palette=\"OrRd\")"
   ]
  },
  {
   "cell_type": "markdown",
   "metadata": {},
   "source": [
    "<pr> We can see from the above countplot that Dodge has the higher number of vehicles and lincoln the lowest.<br> volkswagen and ford share the same percentage of the market share as per the data set.<br>But before coming to any colclusion, we need to check if dodge cars were preffered in whcih year.</pr>"
   ]
  },
  {
   "cell_type": "code",
   "execution_count": 42,
   "metadata": {},
   "outputs": [
    {
     "data": {
      "text/plain": [
       "<matplotlib.axes._subplots.AxesSubplot at 0x1768a978278>"
      ]
     },
     "execution_count": 42,
     "metadata": {},
     "output_type": "execute_result"
    },
    {
     "data": {
      "image/png": "[encoded data removed]",
      "text/plain": [
       "<Figure size 842.4x595.44 with 1 Axes>"
      ]
     },
     "metadata": {},
     "output_type": "display_data"
    }
   ],
   "source": [
    "sns.countplot(x='trans',data=car_data, palette=\"OrRd\")"
   ]
  },
  {
   "cell_type": "markdown",
   "metadata": {},
   "source": [
    "<pr>In the trans countplot, we can observe the type of transmission auto(l4) to the the highest and auto(l3) to be the lowest.<br> buyers also prefer the manual(m5) mode but we need to see in which year it was preferred the most.</pr>"
   ]
  },
  {
   "cell_type": "code",
   "execution_count": 98,
   "metadata": {},
   "outputs": [],
   "source": [
    "# Load the required libraries for visualizing data graphically. These are for your reference you my add/delete any. Make sure which libraries to use to perform tasks.\n",
    "from pandas.plotting import scatter_matrix\n",
    "import matplotlib.pyplot as plt\n",
    "import numpy as np\n",
    "from sklearn import datasets, model_selection\n",
    "import warnings\n",
    "warnings.filterwarnings('ignore')\n",
    "from sklearn import model_selection\n",
    "from scipy import stats"
   ]
  },
  {
   "cell_type": "markdown",
   "metadata": {},
   "source": [
    "<font color = 'green'> (E) </font> *Plot a histogram for the car dataset and comment on your observation for every variable plot.*"
   ]
  },
  {
   "cell_type": "code",
   "execution_count": 46,
   "metadata": {},
   "outputs": [
    {
     "data": {
      "image/png": "[encoded data removed]",
      "text/plain": [
       "<Figure size 842.4x595.44 with 6 Axes>"
      ]
     },
     "metadata": {},
     "output_type": "display_data"
    }
   ],
   "source": [
    "###### Write your code here\n",
    "car_data.hist()\n",
    "plt.show()"
   ]
  },
  {
   "cell_type": "markdown",
   "metadata": {},
   "source": [
    "##### From the above graph, we could see that the data for each variable/attribute is not properly distributed. Say the graph for year only contains the year below 2000 and above 2006. We could see some outliers in highway graph."
   ]
  },
  {
   "cell_type": "markdown",
   "metadata": {},
   "source": [
    "<font color = 'green'> (F) </font> *Plot a distplot for the year attribute in the car dataset and comment on your observation.*"
   ]
  },
  {
   "cell_type": "code",
   "execution_count": 47,
   "metadata": {},
   "outputs": [
    {
     "data": {
      "text/plain": [
       "<matplotlib.axes._subplots.AxesSubplot at 0x1768b5b4400>"
      ]
     },
     "execution_count": 47,
     "metadata": {},
     "output_type": "execute_result"
    },
    {
     "data": {
      "image/png": "[encoded data removed]",
      "text/plain": [
       "<Figure size 842.4x595.44 with 1 Axes>"
      ]
     },
     "metadata": {},
     "output_type": "display_data"
    }
   ],
   "source": [
    "###### Write your code here\n",
    "sns.distplot(a=car_data[\"year\"],rug=True)"
   ]
  },
  {
   "cell_type": "markdown",
   "metadata": {},
   "source": [
    "### The curve shows the density plot which is essentially a smooth version of the histogram. The y-axis is in terms of the year, and the histogram is normalized by default so that it has the same y-scale as the year plot."
   ]
  },
  {
   "cell_type": "markdown",
   "metadata": {},
   "source": [
    "<font color = 'green'> (G) </font> *Plot a Scatter plot for Engine Displacement in Liters vs Highway MPG and comment on your observation and attributes used in plotting.*"
   ]
  },
  {
   "cell_type": "code",
   "execution_count": 53,
   "metadata": {
    "scrolled": true
   },
   "outputs": [
    {
     "data": {
      "image/png": "[encoded data removed]",
      "text/plain": [
       "<Figure size 842.4x595.44 with 1 Axes>"
      ]
     },
     "metadata": {},
     "output_type": "display_data"
    }
   ],
   "source": [
    "###### Write your code here\n",
    "x= car_data.displ\n",
    "y= car_data.hwy\n",
    "plt.scatter(x,y)\n",
    "plt.xlabel(\"Engine Displacement in Liters\")\n",
    "plt.ylabel(\"Highway MPG\")\n",
    "plt.show()\n",
    "##scatter_matrix(car_data)"
   ]
  },
  {
   "cell_type": "markdown",
   "metadata": {},
   "source": [
    "### we can see the the max scatter of the data points between 2 and 6 displacement. and the highway mileage is mostly in the range of 15 to 30 for displacement 3 to 6 and between 25 to 30 for 2 to 3 displacement"
   ]
  },
  {
   "cell_type": "markdown",
   "metadata": {},
   "source": [
    "<font color = 'green'> (H) </font> *Look for the outliers in the dataset. How do you find them? Are there any outliers?*"
   ]
  },
  {
   "cell_type": "code",
   "execution_count": 151,
   "metadata": {
    "scrolled": true
   },
   "outputs": [
    {
     "data": {
      "image/png": "[encoded data removed]",
      "text/plain": [
       "<Figure size 720x720 with 6 Axes>"
      ]
     },
     "metadata": {},
     "output_type": "display_data"
    }
   ],
   "source": [
    "###### Write your code here\n",
    "#plt.scatter(car_data.manufacturer,car_data.year, alpha =0.5)\n",
    "#plt.show()\n",
    "\n",
    "car_data.plot(kind='box', subplots=True, layout=(3,2),figsize=[10,10], sharex=False, sharey=False)\n",
    "plt.show()\n",
    "\n",
    "#plt.scatter(car_data.manufacturer,car_data.displ)\n",
    "#plt.scatter(car_data.displ,car_data.year)"
   ]
  },
  {
   "cell_type": "markdown",
   "metadata": {},
   "source": [
    "###  The dataset is noisy: from the above box plot we can see the possible outliers in case of city and highway mileage data"
   ]
  },
  {
   "cell_type": "code",
   "execution_count": 137,
   "metadata": {
    "scrolled": true
   },
   "outputs": [
    {
     "data": {
      "text/plain": [
       "<matplotlib.collections.PathCollection at 0x1768fef1cc0>"
      ]
     },
     "execution_count": 137,
     "metadata": {},
     "output_type": "execute_result"
    },
    {
     "data": {
      "image/png": "[encoded data removed]",
      "text/plain": [
       "<Figure size 842.4x595.44 with 1 Axes>"
      ]
     },
     "metadata": {},
     "output_type": "display_data"
    }
   ],
   "source": [
    "plt.scatter(car_data.manufacturer,car_data.cty)"
   ]
  },
  {
   "cell_type": "markdown",
   "metadata": {},
   "source": [
    "<font color = 'green'> (I) </font> *How do you check graphically if the data is normally distributed for the model 'mustang' against city miles per gallon ? Comment on the same.*"
   ]
  },
  {
   "cell_type": "code",
   "execution_count": 152,
   "metadata": {},
   "outputs": [
    {
     "data": {
      "text/plain": [
       "Text(0.5, 1.0, 'distribution for mustang')"
      ]
     },
     "execution_count": 152,
     "metadata": {},
     "output_type": "execute_result"
    },
    {
     "data": {
      "image/png": "[encoded data removed]",
      "text/plain": [
       "<Figure size 842.4x595.44 with 1 Axes>"
      ]
     },
     "metadata": {},
     "output_type": "display_data"
    }
   ],
   "source": [
    "###### Write your code here\n",
    "must = car_data.query('model==\"mustang\"')\n",
    "\n",
    "stats.probplot(must['cty'], plot= plt)\n",
    "plt.title(\"distribution for mustang\")"
   ]
  },
  {
   "cell_type": "markdown",
   "metadata": {},
   "source": [
    "###  From the above plot, we can see that the points not far from the red line which indicates the normalizaion of the data"
   ]
  },
  {
   "cell_type": "markdown",
   "metadata": {},
   "source": [
    "<font color = 'green'> (J) </font> *Plot the number of cars by make on a horizontal bar graph.Write your observations on it.*"
   ]
  },
  {
   "cell_type": "code",
   "execution_count": 72,
   "metadata": {},
   "outputs": [
    {
     "name": "stdout",
     "output_type": "stream",
     "text": [
      "manufacturer\n",
      "audi          18\n",
      "chevrolet     19\n",
      "dodge         37\n",
      "ford          25\n",
      "honda          9\n",
      "hyundai       14\n",
      "jeep           8\n",
      "land rover     4\n",
      "lincoln        3\n",
      "mercury        4\n",
      "nissan        13\n",
      "pontiac        5\n",
      "subaru        14\n",
      "toyota        34\n",
      "volkswagen    27\n",
      "dtype: int64\n"
     ]
    },
    {
     "data": {
      "text/plain": [
       "<matplotlib.axes._subplots.AxesSubplot at 0x1768ef092e8>"
      ]
     },
     "execution_count": 72,
     "metadata": {},
     "output_type": "execute_result"
    },
    {
     "data": {
      "image/png": "[encoded data removed]",
      "text/plain": [
       "<Figure size 842.4x595.44 with 1 Axes>"
      ]
     },
     "metadata": {},
     "output_type": "display_data"
    }
   ],
   "source": [
    "###### Write your code here\n",
    "car_count = car_data.groupby('manufacturer').size()\n",
    "print(car_count)\n",
    "car_count.plot.barh(stacked=False)"
   ]
  },
  {
   "cell_type": "markdown",
   "metadata": {},
   "source": [
    "<pr> We can see from the above bar plot that Dodge has the higher number of vehicles and lincoln the lowest.<br> volkswagen and ford share the same percentage of the market share as per the data set.<br>But before coming to any colclusion, we need to check if dodge cars were preffered in whcih year.</pr>"
   ]
  },
  {
   "cell_type": "markdown",
   "metadata": {},
   "source": [
    "<font color = 'green'> (K) </font> *Calculate the standard deviation and the variance for the attribute \"engine displacement in litres(displ)\"\n",
    ".*"
   ]
  },
  {
   "cell_type": "code",
   "execution_count": 84,
   "metadata": {},
   "outputs": [
    {
     "name": "stdout",
     "output_type": "stream",
     "text": [
      "Standard Deviation is \n",
      "1.2919590310839344\n",
      "Variance is \n",
      "1.136643757332936\n"
     ]
    }
   ],
   "source": [
    "###### Write your code here\n",
    "import math \n",
    "dis= car_data.displ\n",
    "#print(dis)\n",
    "print(\"Standard Deviation is \")\n",
    "print(dis.std())\n",
    "\n",
    "print(\"Variance is \")\n",
    "print(math.sqrt(dis.std()))"
   ]
  },
  {
   "cell_type": "markdown",
   "metadata": {},
   "source": [
    "<font color = 'green'> (L) </font> *Calculate the pearson correlation coefficient for the given dataset and generate heatmap for the same.*"
   ]
  },
  {
   "cell_type": "code",
   "execution_count": 94,
   "metadata": {},
   "outputs": [
    {
     "name": "stdout",
     "output_type": "stream",
     "text": [
      "0.147842816450203\n"
     ]
    }
   ],
   "source": [
    "###### Write your code here\n",
    "car_data.corr()\n",
    "\n",
    "#here we will compute the correlation co-efficient of manufacture and year\n",
    "def car_corre(x, y):\n",
    "    # Compute correlation matrix: corr_mat\n",
    "    corr_mat = np.corrcoef(x, y)\n",
    "\n",
    "    # Return entry [0,1]\n",
    "    return corr_mat[0,1]\n",
    "\n",
    "#Compute Pearson correlation co-efficient for manufacture and year\n",
    "d = car_corre(car_data.displ, car_data.year)\n",
    "\n",
    "# Print the result\n",
    "print(d)"
   ]
  },
  {
   "cell_type": "code",
   "execution_count": 95,
   "metadata": {},
   "outputs": [
    {
     "data": {
      "image/png": "[encoded data removed]",
      "text/plain": [
       "<Figure size 504x288 with 2 Axes>"
      ]
     },
     "metadata": {},
     "output_type": "display_data"
    }
   ],
   "source": [
    "car_data.corr()\n",
    "plt.figure(figsize=(7,4))\n",
    "sns.heatmap(car_data.corr(),annot=True,cmap='cubehelix_r')\n",
    "#draws heatmap with input as the correlation matrix calculated by (car_data.corr())\n",
    "plt.show()"
   ]
  },
  {
   "cell_type": "markdown",
   "metadata": {},
   "source": [
    "###### Good Job!!\n",
    "<font color = 'green'> <b> That's the end of your Assignment</b> </font>\n",
    "<p>Just one more concept to explore - binning!  Sometimes we want to put continuous numeric variables in bins in order to mine the data effectively.</p> <p>Think about a temperature variable - it is better to classify it as low, medium and high for some mining algorithms.</p> <p> Additionally, for some algorithms such as neural networks we need categorical variables to be \"flag\" variables.  For example, Location with North, South, East and West becomes three variables North (0 or 1) South (0 or 1) East (0 or 1) then West is when the other three are all 0's.  </P> <p>We will explore binning further in the code below - for now just take a look!</p>"
   ]
  },
  {
   "cell_type": "code",
   "execution_count": 1,
   "metadata": {},
   "outputs": [
    {
     "data": {
      "text/html": [
       "<div>\n",
       "<style scoped>\n",
       "    .dataframe tbody tr th:only-of-type {\n",
       "        vertical-align: middle;\n",
       "    }\n",
       "\n",
       "    .dataframe tbody tr th {\n",
       "        vertical-align: top;\n",
       "    }\n",
       "\n",
       "    .dataframe thead th {\n",
       "        text-align: right;\n",
       "    }\n",
       "</style>\n",
       "<table border=\"1\" class=\"dataframe\">\n",
       "  <thead>\n",
       "    <tr style=\"text-align: right;\">\n",
       "      <th>attributes</th>\n",
       "      <th>city</th>\n",
       "      <th>rank</th>\n",
       "      <th>score1</th>\n",
       "      <th>score2</th>\n",
       "    </tr>\n",
       "    <tr>\n",
       "      <th>letter</th>\n",
       "      <th></th>\n",
       "      <th></th>\n",
       "      <th></th>\n",
       "      <th></th>\n",
       "    </tr>\n",
       "  </thead>\n",
       "  <tbody>\n",
       "    <tr>\n",
       "      <th>A</th>\n",
       "      <td>Tripoli</td>\n",
       "      <td>1st</td>\n",
       "      <td>44</td>\n",
       "      <td>67</td>\n",
       "    </tr>\n",
       "    <tr>\n",
       "      <th>B</th>\n",
       "      <td>Sydney</td>\n",
       "      <td>2nd</td>\n",
       "      <td>48</td>\n",
       "      <td>63</td>\n",
       "    </tr>\n",
       "    <tr>\n",
       "      <th>C</th>\n",
       "      <td>Tripoli</td>\n",
       "      <td>1st</td>\n",
       "      <td>39</td>\n",
       "      <td>55</td>\n",
       "    </tr>\n",
       "    <tr>\n",
       "      <th>D</th>\n",
       "      <td>Rome</td>\n",
       "      <td>2nd</td>\n",
       "      <td>41</td>\n",
       "      <td>70</td>\n",
       "    </tr>\n",
       "    <tr>\n",
       "      <th>E</th>\n",
       "      <td>Rome</td>\n",
       "      <td>1st</td>\n",
       "      <td>38</td>\n",
       "      <td>64</td>\n",
       "    </tr>\n",
       "    <tr>\n",
       "      <th>F</th>\n",
       "      <td>Tripoli</td>\n",
       "      <td>2nd</td>\n",
       "      <td>44</td>\n",
       "      <td>75</td>\n",
       "    </tr>\n",
       "    <tr>\n",
       "      <th>G</th>\n",
       "      <td>Rome</td>\n",
       "      <td>1st</td>\n",
       "      <td>34</td>\n",
       "      <td>45</td>\n",
       "    </tr>\n",
       "    <tr>\n",
       "      <th>H</th>\n",
       "      <td>Sydney</td>\n",
       "      <td>2nd</td>\n",
       "      <td>54</td>\n",
       "      <td>66</td>\n",
       "    </tr>\n",
       "    <tr>\n",
       "      <th>I</th>\n",
       "      <td>Sydney</td>\n",
       "      <td>1st</td>\n",
       "      <td>61</td>\n",
       "      <td>72</td>\n",
       "    </tr>\n",
       "  </tbody>\n",
       "</table>\n",
       "</div>"
      ],
      "text/plain": [
       "attributes     city rank  score1  score2\n",
       "letter                                  \n",
       "A           Tripoli  1st      44      67\n",
       "B            Sydney  2nd      48      63\n",
       "C           Tripoli  1st      39      55\n",
       "D              Rome  2nd      41      70\n",
       "E              Rome  1st      38      64\n",
       "F           Tripoli  2nd      44      75\n",
       "G              Rome  1st      34      45\n",
       "H            Sydney  2nd      54      66\n",
       "I            Sydney  1st      61      72"
      ]
     },
     "execution_count": 1,
     "metadata": {},
     "output_type": "execute_result"
    }
   ],
   "source": [
    "#import pandas\n",
    "import pandas as pd\n",
    "#first create raw_data to use for our data\n",
    "raw_data = {\n",
    "         \"city\": [\"Tripoli\", \"Sydney\", \"Tripoli\", \"Rome\", \"Rome\", \"Tripoli\",\"Rome\", \"Sydney\", \"Sydney\"],\n",
    "         \"rank\": [\"1st\", \"2nd\", \"1st\", \"2nd\", \"1st\", \"2nd\",\"1st\", \"2nd\", \"1st\"], \n",
    "         \"score1\": [44, 48, 39, 41, 38, 44, 34, 54, 61],\n",
    "         \"score2\": [67, 63, 55, 70, 64, 75, 45, 66, 72]\n",
    "        }\n",
    "#create df as a DataFrame\n",
    "df = pd.DataFrame(raw_data, \n",
    "                  index = pd.Index(['A','B','C','D','E','F','G','H','I'], name='letter'),\n",
    "                  columns = pd.Index(['city', 'rank','score1','score2'],name='attributes'))\n",
    "#df\n",
    "df\n"
   ]
  },
  {
   "cell_type": "code",
   "execution_count": 4,
   "metadata": {},
   "outputs": [],
   "source": [
    "#Define bins as 0 to 25, 25 - 50, 50 - 75, 75 - 100\n",
    "bins = [0, 25, 50, 75, 100]\n"
   ]
  },
  {
   "cell_type": "code",
   "execution_count": 5,
   "metadata": {},
   "outputs": [],
   "source": [
    "#names for the four groups\n",
    "group_names = ['low', 'average', 'good', 'brilliant']"
   ]
  },
  {
   "cell_type": "code",
   "execution_count": 6,
   "metadata": {},
   "outputs": [],
   "source": [
    "#now create grade with score2 arranged according to gins\n",
    "df['grade'] = pd.cut(df['score2'], bins, labels=group_names)"
   ]
  },
  {
   "cell_type": "code",
   "execution_count": 7,
   "metadata": {},
   "outputs": [
    {
     "data": {
      "text/html": [
       "<div>\n",
       "<style scoped>\n",
       "    .dataframe tbody tr th:only-of-type {\n",
       "        vertical-align: middle;\n",
       "    }\n",
       "\n",
       "    .dataframe tbody tr th {\n",
       "        vertical-align: top;\n",
       "    }\n",
       "\n",
       "    .dataframe thead th {\n",
       "        text-align: right;\n",
       "    }\n",
       "</style>\n",
       "<table border=\"1\" class=\"dataframe\">\n",
       "  <thead>\n",
       "    <tr style=\"text-align: right;\">\n",
       "      <th>attributes</th>\n",
       "      <th>city</th>\n",
       "      <th>rank</th>\n",
       "      <th>score1</th>\n",
       "      <th>score2</th>\n",
       "      <th>grade</th>\n",
       "    </tr>\n",
       "    <tr>\n",
       "      <th>letter</th>\n",
       "      <th></th>\n",
       "      <th></th>\n",
       "      <th></th>\n",
       "      <th></th>\n",
       "      <th></th>\n",
       "    </tr>\n",
       "  </thead>\n",
       "  <tbody>\n",
       "    <tr>\n",
       "      <th>A</th>\n",
       "      <td>Tripoli</td>\n",
       "      <td>1st</td>\n",
       "      <td>44</td>\n",
       "      <td>67</td>\n",
       "      <td>good</td>\n",
       "    </tr>\n",
       "    <tr>\n",
       "      <th>B</th>\n",
       "      <td>Sydney</td>\n",
       "      <td>2nd</td>\n",
       "      <td>48</td>\n",
       "      <td>63</td>\n",
       "      <td>good</td>\n",
       "    </tr>\n",
       "    <tr>\n",
       "      <th>C</th>\n",
       "      <td>Tripoli</td>\n",
       "      <td>1st</td>\n",
       "      <td>39</td>\n",
       "      <td>55</td>\n",
       "      <td>good</td>\n",
       "    </tr>\n",
       "    <tr>\n",
       "      <th>D</th>\n",
       "      <td>Rome</td>\n",
       "      <td>2nd</td>\n",
       "      <td>41</td>\n",
       "      <td>70</td>\n",
       "      <td>good</td>\n",
       "    </tr>\n",
       "    <tr>\n",
       "      <th>E</th>\n",
       "      <td>Rome</td>\n",
       "      <td>1st</td>\n",
       "      <td>38</td>\n",
       "      <td>64</td>\n",
       "      <td>good</td>\n",
       "    </tr>\n",
       "    <tr>\n",
       "      <th>F</th>\n",
       "      <td>Tripoli</td>\n",
       "      <td>2nd</td>\n",
       "      <td>44</td>\n",
       "      <td>75</td>\n",
       "      <td>good</td>\n",
       "    </tr>\n",
       "    <tr>\n",
       "      <th>G</th>\n",
       "      <td>Rome</td>\n",
       "      <td>1st</td>\n",
       "      <td>34</td>\n",
       "      <td>45</td>\n",
       "      <td>average</td>\n",
       "    </tr>\n",
       "    <tr>\n",
       "      <th>H</th>\n",
       "      <td>Sydney</td>\n",
       "      <td>2nd</td>\n",
       "      <td>54</td>\n",
       "      <td>66</td>\n",
       "      <td>good</td>\n",
       "    </tr>\n",
       "    <tr>\n",
       "      <th>I</th>\n",
       "      <td>Sydney</td>\n",
       "      <td>1st</td>\n",
       "      <td>61</td>\n",
       "      <td>72</td>\n",
       "      <td>good</td>\n",
       "    </tr>\n",
       "  </tbody>\n",
       "</table>\n",
       "</div>"
      ],
      "text/plain": [
       "attributes     city rank  score1  score2    grade\n",
       "letter                                           \n",
       "A           Tripoli  1st      44      67     good\n",
       "B            Sydney  2nd      48      63     good\n",
       "C           Tripoli  1st      39      55     good\n",
       "D              Rome  2nd      41      70     good\n",
       "E              Rome  1st      38      64     good\n",
       "F           Tripoli  2nd      44      75     good\n",
       "G              Rome  1st      34      45  average\n",
       "H            Sydney  2nd      54      66     good\n",
       "I            Sydney  1st      61      72     good"
      ]
     },
     "execution_count": 7,
     "metadata": {},
     "output_type": "execute_result"
    }
   ],
   "source": [
    "df\n",
    "#now that is pretty cool! Our numeric data has been binned into categories!"
   ]
  }
 ],
 "metadata": {
  "kernelspec": {
   "display_name": "Python 3",
   "language": "python",
   "name": "python3"
  },
  "language_info": {
   "codemirror_mode": {
    "name": "ipython",
    "version": 3
   },
   "file_extension": ".py",
   "mimetype": "text/x-python",
   "name": "python",
   "nbconvert_exporter": "python",
   "pygments_lexer": "ipython3",
   "version": "3.7.3"
  }
 },
 "nbformat": 4,
 "nbformat_minor": 2
}
